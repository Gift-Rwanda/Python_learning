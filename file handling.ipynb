{
 "cells": [
  {
   "cell_type": "code",
   "execution_count": 12,
   "id": "b945489a-d7b8-4192-873d-99154988ee9a",
   "metadata": {},
   "outputs": [],
   "source": [
    "with open(\"quotes.txt\", \"w\") as file:\n",
    "    file.writelines(\"Education is the key. \\n Love your enermy. \\n Stay close to your enemy. \\n Time is money. \\n True love exists. \\n God exists.\")"
   ]
  },
  {
   "cell_type": "code",
   "execution_count": 13,
   "id": "211bbd78-4fb1-417d-978c-00c28b29ba16",
   "metadata": {},
   "outputs": [
    {
     "name": "stdout",
     "output_type": "stream",
     "text": [
      "Education is the key. \n",
      " Love your enermy. \n",
      " Stay close to your enemy. \n",
      " Time is money. \n",
      " True love exists. \n",
      " God exists.\n"
     ]
    }
   ],
   "source": [
    "with open(\"quotes.txt\", \"r\") as file:\n",
    "    Quotes=(file.read())\n",
    "    print(Quotes)"
   ]
  },
  {
   "cell_type": "code",
   "execution_count": 14,
   "id": "3ba73c1e-76fc-4f9d-9ac4-fbb4097200b2",
   "metadata": {},
   "outputs": [
    {
     "name": "stdout",
     "output_type": "stream",
     "text": [
      "1\n",
      "2\n",
      "3\n",
      "4\n",
      "5\n",
      "6\n"
     ]
    }
   ],
   "source": [
    "count=0\n",
    "for i in Quotes:\n",
    "    if i==\".\":\n",
    "        count+=1\n",
    "        print(count)"
   ]
  },
  {
   "cell_type": "code",
   "execution_count": null,
   "id": "be89bf52-471f-4933-97d4-8eb44427d61e",
   "metadata": {},
   "outputs": [],
   "source": []
  },
  {
   "cell_type": "code",
   "execution_count": 16,
   "id": "260743b6-aade-4e70-982f-f434b9c6c8a6",
   "metadata": {},
   "outputs": [],
   "source": [
    "with open(\"source.txt\", \"w\") as file:\n",
    "    file.write(\"t\")"
   ]
  },
  {
   "cell_type": "code",
   "execution_count": 17,
   "id": "cafc23f1-16c4-430d-b33e-cc938af8b5dd",
   "metadata": {},
   "outputs": [
    {
     "name": "stdout",
     "output_type": "stream",
     "text": [
      "t\n"
     ]
    }
   ],
   "source": [
    "with open(\"source.txt\", \"r\") as file:\n",
    "    read=file.read()\n",
    "    print(read)"
   ]
  },
  {
   "cell_type": "code",
   "execution_count": null,
   "id": "f6809c1e-8dd5-43a9-8197-93350d81690f",
   "metadata": {},
   "outputs": [],
   "source": [
    "with open (\"destination.txt\", \"w\") as file:\n",
    "    from read import "
   ]
  }
 ],
 "metadata": {
  "kernelspec": {
   "display_name": "Python 3 (ipykernel)",
   "language": "python",
   "name": "python3"
  },
  "language_info": {
   "codemirror_mode": {
    "name": "ipython",
    "version": 3
   },
   "file_extension": ".py",
   "mimetype": "text/x-python",
   "name": "python",
   "nbconvert_exporter": "python",
   "pygments_lexer": "ipython3",
   "version": "3.13.2"
  }
 },
 "nbformat": 4,
 "nbformat_minor": 5
}
